{
 "cells": [
  {
   "cell_type": "markdown",
   "id": "5a9632b0",
   "metadata": {},
   "source": [
    "### Question 1"
   ]
  },
  {
   "cell_type": "code",
   "execution_count": 5,
   "id": "17a63000",
   "metadata": {},
   "outputs": [],
   "source": [
    "poem_str=\"Twinkle, twinkle, little star, \\n\\t How I wonder what you are! \\n\\t\\t Up above the world so high, \\n\\t\\t Like a diamond in the sky. \\n Twinkle, twinkle, little star, \\n\\t How I wonder what you are\""
   ]
  },
  {
   "cell_type": "code",
   "execution_count": 7,
   "id": "77a2bb19",
   "metadata": {},
   "outputs": [
    {
     "name": "stdout",
     "output_type": "stream",
     "text": [
      "Twinkle, twinkle, little star, \n",
      "\t How I wonder what you are! \n",
      "\t\t Up above the world so high, \n",
      "\t\t Like a diamond in the sky. \n",
      " Twinkle, twinkle, little star, \n",
      "\t How I wonder what you are\n"
     ]
    }
   ],
   "source": [
    "print(poem_str)"
   ]
  },
  {
   "cell_type": "markdown",
   "id": "a8b13970",
   "metadata": {},
   "source": [
    "### Question 2"
   ]
  },
  {
   "cell_type": "code",
   "execution_count": 54,
   "id": "b8afa4df",
   "metadata": {},
   "outputs": [
    {
     "name": "stdout",
     "output_type": "stream",
     "text": [
      "Please Enter a radius: 3.76\n",
      "44.40902912\n"
     ]
    }
   ],
   "source": [
    "pi=3.1412\n",
    "\n",
    "rad=input(\"Please Enter a radius: \")\n",
    "rad=float(rad)\n",
    "\n",
    "area=pi*(rad**2)\n",
    "print(area)"
   ]
  },
  {
   "cell_type": "markdown",
   "id": "3ae57e36",
   "metadata": {},
   "source": [
    "### Question 3"
   ]
  },
  {
   "cell_type": "code",
   "execution_count": 14,
   "id": "eff8b20c",
   "metadata": {},
   "outputs": [
    {
     "name": "stdout",
     "output_type": "stream",
     "text": [
      "Please enter your First Name: Zain\n",
      "Please enter your Last Name: Akbar\n",
      "Akbar Zain\n"
     ]
    }
   ],
   "source": [
    "f_name=input(\"Please enter your First Name: \")\n",
    "l_name=input(\"Please enter your Last Name: \")\n",
    "\n",
    "rev_name=l_name+\" \"+f_name\n",
    "print(rev_name)"
   ]
  },
  {
   "cell_type": "markdown",
   "id": "9a7b1bf2",
   "metadata": {},
   "source": [
    "### Question 4"
   ]
  },
  {
   "cell_type": "code",
   "execution_count": 55,
   "id": "e70dc59e",
   "metadata": {},
   "outputs": [
    {
     "name": "stdout",
     "output_type": "stream",
     "text": [
      "Enter sequence seperated by commas: 3,5,7,23\n",
      "['3', '5', '7', '23']\n",
      "('3', '5', '7', '23')\n"
     ]
    }
   ],
   "source": [
    "int_sequence=input(\"Enter sequence seperated by commas: \")\n",
    "my_list=int_sequence.split(\",\")\n",
    "print(my_list)\n",
    "my_tuple=tuple(my_list)\n",
    "print(my_tuple)"
   ]
  },
  {
   "cell_type": "markdown",
   "id": "e703034c",
   "metadata": {},
   "source": [
    "### Question 5"
   ]
  },
  {
   "cell_type": "code",
   "execution_count": 56,
   "id": "c98e72b9",
   "metadata": {},
   "outputs": [
    {
     "name": "stdout",
     "output_type": "stream",
     "text": [
      "Red\n",
      "Black\n"
     ]
    }
   ],
   "source": [
    "color_list = [\"Red\",\"Green\",\"White\" ,\"Black\"]\n",
    "print(color_list[0])\n",
    "print(color_list[3])"
   ]
  },
  {
   "cell_type": "markdown",
   "id": "d7b9859c",
   "metadata": {},
   "source": [
    "### Question 6"
   ]
  },
  {
   "cell_type": "code",
   "execution_count": 41,
   "id": "5f7d08fa",
   "metadata": {},
   "outputs": [
    {
     "name": "stdout",
     "output_type": "stream",
     "text": [
      "Enter the number n: 5\n",
      "615\n"
     ]
    }
   ],
   "source": [
    "n=input(\"Enter the number n: \")\n",
    "n=int(n)\n",
    "\n",
    "term_1=n\n",
    "term_2=(n*10)+n\n",
    "term_3=(n*100)+(n*10)+n\n",
    "\n",
    "print(term_1+term_2+term_3)"
   ]
  },
  {
   "cell_type": "markdown",
   "id": "379904e6",
   "metadata": {},
   "source": [
    "### Question 7"
   ]
  },
  {
   "cell_type": "code",
   "execution_count": 1,
   "id": "2c25cea5",
   "metadata": {},
   "outputs": [
    {
     "name": "stdout",
     "output_type": "stream",
     "text": [
      "Enter a number: 12\n",
      "-5\n"
     ]
    }
   ],
   "source": [
    "num=input(\"Enter a number: \")\n",
    "num=int(num)\n",
    "\n",
    "if num>17:\n",
    "    print((num-17)*2)\n",
    "else:\n",
    "    print(num-17)"
   ]
  },
  {
   "cell_type": "markdown",
   "id": "49513a89",
   "metadata": {},
   "source": [
    "### Question 8"
   ]
  },
  {
   "cell_type": "code",
   "execution_count": 47,
   "id": "17b2ccdc",
   "metadata": {},
   "outputs": [
    {
     "name": "stdout",
     "output_type": "stream",
     "text": [
      "Enter a number: 4\n",
      "Enter a number: 5\n",
      "Enter a number: 7\n",
      "16\n"
     ]
    }
   ],
   "source": [
    "num_1=input(\"Enter a number: \")\n",
    "num_1=int(num_1)\n",
    "\n",
    "num_2=input(\"Enter a number: \")\n",
    "num_2=int(num_2)\n",
    "\n",
    "num_3=input(\"Enter a number: \")\n",
    "num_3=int(num_3)\n",
    "\n",
    "if num_1==num_2==num_3:\n",
    "    sum=num_1+num_2+num_3\n",
    "    print(sum*3)\n",
    "else:\n",
    "    sum=num_1+num_2+num_3\n",
    "    print(sum)\n",
    "    "
   ]
  },
  {
   "cell_type": "markdown",
   "id": "bfd0c12b",
   "metadata": {},
   "source": [
    "### Question 9"
   ]
  },
  {
   "cell_type": "code",
   "execution_count": 4,
   "id": "6c18dfb3",
   "metadata": {},
   "outputs": [
    {
     "name": "stdout",
     "output_type": "stream",
     "text": [
      "386\n",
      "462\n",
      "418\n",
      "344\n",
      "236\n",
      "566\n",
      "978\n",
      "328\n",
      "162\n",
      "758\n",
      "918\n"
     ]
    }
   ],
   "source": [
    "numbers = [386, 462, 47, 418, 907, 344, 236, 375, 823, 566, 597, 978, 328, 615, 953, 345, \n",
    "399, 162, 758, 219, 918, 237, 412, 566, 826, 248, 866, 950, 626, 949, 687, 217, 815, 67, \n",
    "104, 58, 512, 24, 892, 894, 767, 553, 81, 379, 843, 831, 445, 742, 717, 958,743, 527]\n",
    "\n",
    "for x in numbers:\n",
    "    if x % 2==0:\n",
    "        print(x)\n",
    "    elif x==237:\n",
    "        break\n",
    "\n",
    "    \n",
    "\n"
   ]
  },
  {
   "cell_type": "markdown",
   "id": "0f63d0ef",
   "metadata": {},
   "source": [
    "### Question 10"
   ]
  },
  {
   "cell_type": "code",
   "execution_count": 53,
   "id": "5e75c281",
   "metadata": {},
   "outputs": [
    {
     "name": "stdout",
     "output_type": "stream",
     "text": [
      "49\n"
     ]
    }
   ],
   "source": [
    "x=4\n",
    "y=3\n",
    "\n",
    "print((x+y)*(x+y))\n",
    "\n"
   ]
  },
  {
   "cell_type": "code",
   "execution_count": null,
   "id": "95ee2fb6",
   "metadata": {},
   "outputs": [],
   "source": []
  }
 ],
 "metadata": {
  "kernelspec": {
   "display_name": "Python 3 (ipykernel)",
   "language": "python",
   "name": "python3"
  },
  "language_info": {
   "codemirror_mode": {
    "name": "ipython",
    "version": 3
   },
   "file_extension": ".py",
   "mimetype": "text/x-python",
   "name": "python",
   "nbconvert_exporter": "python",
   "pygments_lexer": "ipython3",
   "version": "3.9.12"
  }
 },
 "nbformat": 4,
 "nbformat_minor": 5
}
